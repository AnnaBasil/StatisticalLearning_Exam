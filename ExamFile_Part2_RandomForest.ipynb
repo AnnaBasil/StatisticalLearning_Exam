{
 "cells": [
  {
   "cell_type": "code",
   "execution_count": 271,
   "id": "919b9e72",
   "metadata": {},
   "outputs": [],
   "source": [
    "from sklearn.datasets import make_blobs\n",
    "from sklearn.cluster import KMeans\n",
    "from sklearn.metrics import silhouette_samples, silhouette_score\n",
    "\n",
    "import matplotlib.pyplot as plt \n",
    "import matplotlib.pyplot as plt\n",
    "%matplotlib inline\n",
    "import matplotlib.cm as cm \n",
    "import seaborn as sns\n",
    "\n",
    "import numpy as np\n",
    "import pandas as pd\n",
    "\n",
    "\n",
    "\n",
    "# Modelling\n",
    "from sklearn.ensemble import RandomForestClassifier\n",
    "from sklearn.metrics import accuracy_score, confusion_matrix, precision_score, recall_score, ConfusionMatrixDisplay\n",
    "from sklearn.model_selection import RandomizedSearchCV, train_test_split\n",
    "from scipy.stats import randint\n",
    "\n",
    "# Tree Visualisation\n",
    "from sklearn.tree import export_graphviz\n",
    "from IPython.display import Image\n",
    "#import graphviz\n",
    "\n",
    "\n",
    "from sklearn.metrics import accuracy_score, confusion_matrix, precision_score, recall_score, ConfusionMatrixDisplay\n",
    "\n",
    "from sklearn.ensemble import RandomForestClassifier\n"
   ]
  },
  {
   "cell_type": "code",
   "execution_count": 272,
   "id": "229222fe",
   "metadata": {},
   "outputs": [],
   "source": [
    "# Get the data for model and text \n",
    "df_model= pd.read_excel('Dataset_work_17Oct.xlsx', sheet_name='Model')\n",
    "\n",
    "#print(df_model)\n",
    "\n",
    "df_test= pd.read_excel('Dataset_work_17Oct.xlsx', sheet_name='test_1_3_16_21')\n",
    "#print(df_test)\n",
    "\n",
    "# ['skew_rr', 'mean_acc', 'mean_gra', 'std_gra', 'gender']\n",
    "# ['std_rr', 'skew_rr', 'mean_rr', 'std_acc', 'mean_acc', 'mean_gra', 'std_gra', 'height', 'gender']\n",
    "\n",
    "# set the X (as features for model) and y (target data - task information )\n",
    "X_modelData = pd.DataFrame(df_model,columns=['std_rr', 'skew_rr', 'mean_rr', 'std_acc', 'mean_acc', 'mean_gra', 'std_gra', 'height', 'gender'])\n",
    "y_model= df_model.task_info\n",
    "ynew_model= df_model.stationay_yes_no  # 12 is ststionary and 3456 moving. \n",
    "y_4group_model=df_model.activity_group_4\n",
    "\n",
    "X_testData = pd.DataFrame(df_test,columns=['std_rr', 'skew_rr', 'mean_rr', 'std_acc', 'mean_acc', 'mean_gra', 'std_gra', 'height', 'gender'])\n",
    "y_test= df_test.task_info\n",
    "ynew_test= df_test.stationay_yes_no\n",
    "y_4group_test=df_test.activity_group_4\n",
    "# preprocessing of the all the data is performed \n",
    "\n",
    "from sklearn.preprocessing import MinMaxScaler\n",
    "mmscaler = MinMaxScaler()\n",
    "\n",
    "from sklearn.preprocessing import StandardScaler            # seams standscalar is doing better\n",
    "std_scaler = StandardScaler()\n",
    "\n",
    "X_modelData_scaled = std_scaler.fit_transform(X_modelData)                          \n",
    "\n",
    "X_testData_scaled= std_scaler.fit_transform(X_testData)                          # check the heading of the test data \n",
    " \n",
    "data_features=columns=['std_rr', 'skew_rr', 'mean_rr', 'std_acc', 'mean_acc', 'mean_gra', 'std_gra', 'height', 'gender']\n"
   ]
  },
  {
   "cell_type": "markdown",
   "id": "3393c4eb",
   "metadata": {},
   "source": [
    "# Different target labels that can be used as needed to test different conditions "
   ]
  },
  {
   "cell_type": "code",
   "execution_count": 273,
   "id": "927aed40",
   "metadata": {},
   "outputs": [],
   "source": [
    "# Data for modelling \n",
    "X=X_modelData_scaled  #\n",
    "y=y_model\n",
    "y_4group_model=df_model.activity_group_4\n",
    "\n",
    "# data for prediction/testing\n",
    "y_test=y_test\n",
    "X_test=X_testData_scaled\n",
    "y_4group_test=df_test.activity_group_4"
   ]
  },
  {
   "cell_type": "markdown",
   "id": "1f54dbf6",
   "metadata": {},
   "source": [
    "# Classifiers from 9 features is done "
   ]
  },
  {
   "cell_type": "code",
   "execution_count": 274,
   "id": "dee76316",
   "metadata": {},
   "outputs": [],
   "source": [
    "# Using data without PCA \n",
    "\n",
    "Model= X_modelData_scaled\n",
    "y_model= df_model.task_info\n",
    "ynew_model= df_model.stationay_yes_no  # 12 is ststionary and 3456 moving. \n",
    "\n",
    "\n",
    "\n",
    "test = X_testData_scaled\n",
    "y_test= df_test.task_info\n",
    "ynew_test= df_test.stationay_yes_no\n"
   ]
  },
  {
   "cell_type": "markdown",
   "id": "01d11c46",
   "metadata": {},
   "source": [
    "# RandomForestClassifier ( Stationary or moving)"
   ]
  },
  {
   "cell_type": "code",
   "execution_count": 275,
   "id": "1bec885f",
   "metadata": {},
   "outputs": [
    {
     "name": "stdout",
     "output_type": "stream",
     "text": [
      "[[ 1.93286906 -0.76595697  1.83605524 ... -0.50995185 -1.25849223\n",
      "  -1.18597368]\n",
      " [ 2.14855678 -0.6410469   1.75632049 ... -0.66114755 -1.25849223\n",
      "  -1.18597368]\n",
      " [ 2.08669801 -0.77433045  1.80338066 ... -0.35147018 -1.25849223\n",
      "  -1.18597368]\n",
      " ...\n",
      " [ 0.82666378 -0.69757802  0.87016231 ... -0.22744235  1.86113518\n",
      "   0.84318903]\n",
      " [ 0.83301714 -0.87950547  0.88571281 ... -0.34399689  1.86113518\n",
      "   0.84318903]\n",
      " [ 0.8974452  -0.85185394  0.96279357 ...  0.08615649  1.86113518\n",
      "   0.84318903]]\n",
      "0       3456\n",
      "1       3456\n",
      "2       3456\n",
      "3       3456\n",
      "4       3456\n",
      "        ... \n",
      "1321    3456\n",
      "1322    3456\n",
      "1323    3456\n",
      "1324    3456\n",
      "1325    3456\n",
      "Name: stationay_yes_no, Length: 1326, dtype: int64\n",
      "0      3456\n",
      "1      3456\n",
      "2      3456\n",
      "3      3456\n",
      "4      3456\n",
      "       ... \n",
      "295    3456\n",
      "296    3456\n",
      "297    3456\n",
      "298    3456\n",
      "299    3456\n",
      "Name: stationay_yes_no, Length: 300, dtype: int64\n",
      "[[ 2.26645706 -1.08987638  2.76804014 ... -0.8417669   1.69726628\n",
      "   1.00668904]\n",
      " [ 2.67206237 -0.75326295  2.86199481 ... -0.8405083   1.69726628\n",
      "   1.00668904]\n",
      " [ 2.34665986 -0.93138908  2.7823927  ... -0.84693395  1.69726628\n",
      "   1.00668904]\n",
      " ...\n",
      " [ 0.1005931  -0.66812045  0.21214054 ... -0.53669081 -0.99627934\n",
      "  -0.99335541]\n",
      " [ 0.13001408 -0.69138998  0.20663891 ... -0.46545156 -0.99627934\n",
      "  -0.99335541]\n",
      " [ 0.14216084 -0.63602471  0.26592612 ... -0.31148918 -0.99627934\n",
      "  -0.99335541]]\n"
     ]
    }
   ],
   "source": [
    "# Split the data into training and test sets\n",
    "#X_train, X_test, y_train, y_test = train_test_split(X, y, test_size=0.2)\n",
    "X_train=Model\n",
    "y_train=ynew_model\n",
    "X_test=test\n",
    "y_test=ynew_test\n",
    "\n",
    "print(X_train)\n",
    "print(y_train)\n",
    "print(y_test)\n",
    "print(X_test)\n",
    "\n",
    "\n"
   ]
  },
  {
   "cell_type": "code",
   "execution_count": 276,
   "id": "bfdd8a96",
   "metadata": {},
   "outputs": [
    {
     "name": "stdout",
     "output_type": "stream",
     "text": [
      "Accuracy: 1.0\n"
     ]
    },
    {
     "data": {
      "text/plain": [
       "300"
      ]
     },
     "execution_count": 276,
     "metadata": {},
     "output_type": "execute_result"
    },
    {
     "data": {
      "image/png": "[encoded data removed]",
      "text/plain": [
       "<Figure size 640x480 with 2 Axes>"
      ]
     },
     "metadata": {},
     "output_type": "display_data"
    }
   ],
   "source": [
    "# https://www.analyticsvidhya.com/blog/2021/06/understanding-random-forest/\n",
    "# https://www.datacamp.com/tutorial/random-forests-classifier-python\n",
    "\n",
    "from sklearn.metrics import accuracy_score, confusion_matrix, precision_score, recall_score, ConfusionMatrixDisplay\n",
    "\n",
    "from sklearn.ensemble import RandomForestClassifier\n",
    "rf_2option = RandomForestClassifier()\n",
    "rf_2option.fit(X_train, y_train)\n",
    "\n",
    "y_pred = rf_2option.predict(X_test)\n",
    "\n",
    "\n",
    "accuracy = accuracy_score(y_test, y_pred)\n",
    "print(\"Accuracy:\", accuracy)\n",
    "\n",
    "\n",
    "# Create the confusion matrix\n",
    "cm = confusion_matrix(y_test, y_pred)\n",
    "ConfusionMatrixDisplay(confusion_matrix=cm).plot();\n",
    "\n",
    "len(y_test)"
   ]
  },
  {
   "cell_type": "markdown",
   "id": "a4302672",
   "metadata": {},
   "source": [
    "# Export the first three decision trees from the forest\n",
    "\n",
    "for i in range(3):\n",
    "    tree = rf.estimators_[i]\n",
    "    dot_data = export_graphviz(tree,\n",
    "                               feature_names=X_train.columns,  \n",
    "                               filled=True,  \n",
    "                               max_depth=2, \n",
    "                               impurity=False, \n",
    "                               proportion=True)\n",
    "    graph = graphviz.Source(dot_data)\n",
    "    display(graph)"
   ]
  },
  {
   "cell_type": "markdown",
   "id": "10b419d1",
   "metadata": {},
   "source": [
    "# RandomForestClassifier ( Multiclass with all activities)\n"
   ]
  },
  {
   "cell_type": "code",
   "execution_count": 277,
   "id": "07b982b3",
   "metadata": {},
   "outputs": [
    {
     "name": "stdout",
     "output_type": "stream",
     "text": [
      "[[ 1.93286906 -0.76595697  1.83605524 ... -0.50995185 -1.25849223\n",
      "  -1.18597368]\n",
      " [ 2.14855678 -0.6410469   1.75632049 ... -0.66114755 -1.25849223\n",
      "  -1.18597368]\n",
      " [ 2.08669801 -0.77433045  1.80338066 ... -0.35147018 -1.25849223\n",
      "  -1.18597368]\n",
      " ...\n",
      " [ 0.82666378 -0.69757802  0.87016231 ... -0.22744235  1.86113518\n",
      "   0.84318903]\n",
      " [ 0.83301714 -0.87950547  0.88571281 ... -0.34399689  1.86113518\n",
      "   0.84318903]\n",
      " [ 0.8974452  -0.85185394  0.96279357 ...  0.08615649  1.86113518\n",
      "   0.84318903]]\n",
      "y_train 0       6\n",
      "1       6\n",
      "2       6\n",
      "3       6\n",
      "4       6\n",
      "       ..\n",
      "1321    3\n",
      "1322    3\n",
      "1323    3\n",
      "1324    3\n",
      "1325    3\n",
      "Name: task_info, Length: 1326, dtype: int64\n",
      "[[ 2.26645706 -1.08987638  2.76804014 ... -0.8417669   1.69726628\n",
      "   1.00668904]\n",
      " [ 2.67206237 -0.75326295  2.86199481 ... -0.8405083   1.69726628\n",
      "   1.00668904]\n",
      " [ 2.34665986 -0.93138908  2.7823927  ... -0.84693395  1.69726628\n",
      "   1.00668904]\n",
      " ...\n",
      " [ 0.1005931  -0.66812045  0.21214054 ... -0.53669081 -0.99627934\n",
      "  -0.99335541]\n",
      " [ 0.13001408 -0.69138998  0.20663891 ... -0.46545156 -0.99627934\n",
      "  -0.99335541]\n",
      " [ 0.14216084 -0.63602471  0.26592612 ... -0.31148918 -0.99627934\n",
      "  -0.99335541]]\n",
      "y_test 0      6\n",
      "1      6\n",
      "2      6\n",
      "3      6\n",
      "4      6\n",
      "      ..\n",
      "295    3\n",
      "296    3\n",
      "297    3\n",
      "298    3\n",
      "299    3\n",
      "Name: task_info, Length: 300, dtype: int64\n"
     ]
    }
   ],
   "source": [
    "Model= X_modelData_scaled\n",
    "y_model= df_model.task_info\n",
    "\n",
    "\n",
    "\n",
    "\n",
    "test = X_testData_scaled\n",
    "y_test= df_test.task_info\n",
    "\n",
    "\n",
    "X_train=Model\n",
    "y_train=y_model\n",
    "X_test=test\n",
    "y_test=y_test\n",
    "\n",
    "print(X_train)\n",
    "print('y_train',y_train)\n",
    "\n",
    "print(X_test)\n",
    "\n",
    "print('y_test',y_test)\n"
   ]
  },
  {
   "cell_type": "code",
   "execution_count": 278,
   "id": "0f872cb4",
   "metadata": {},
   "outputs": [],
   "source": [
    "# https://www.analyticsvidhya.com/blog/2021/06/understanding-random-forest/\n",
    "# https://www.datacamp.com/tutorial/random-forests-classifier-python\n",
    "\n",
    "rf = RandomForestClassifier()\n",
    "rf.fit(X_train, y_train)\n",
    "\n",
    "y_pred = rf.predict(X_test)"
   ]
  },
  {
   "cell_type": "code",
   "execution_count": 279,
   "id": "29e76841",
   "metadata": {},
   "outputs": [
    {
     "name": "stdout",
     "output_type": "stream",
     "text": [
      "Accuracy: 0.8133333333333334\n"
     ]
    },
    {
     "data": {
      "image/png": "[encoded data removed]",
      "text/plain": [
       "<Figure size 500x400 with 2 Axes>"
      ]
     },
     "metadata": {},
     "output_type": "display_data"
    }
   ],
   "source": [
    "# https://www.analyticsvidhya.com/blog/2021/06/confusion-matrix-for-multi-class-classification/\n",
    "    \n",
    "# Creating  a confusion matrix,which compares the y_test and y_pred\n",
    "cm = confusion_matrix(y_test, y_pred)\n",
    "\n",
    "# Creating a dataframe for a array-formatted Confusion matrix,so it will be easy for plotting.\n",
    "cm_df = pd.DataFrame(cm, index = ['sit','stand','upstair','downstair','walk','jogg'], columns = ['sit','stand','upstair','downstair','walk','jogg'])\n",
    "# 1.sit 2. stand 3. upstair 4. downstair 5. walk 6. Jogg\n",
    "\n",
    "accuracy = accuracy_score(y_test, y_pred)\n",
    "print(\"Accuracy:\", accuracy)\n",
    "\n",
    "#Plotting the confusion matrix\n",
    "plt.figure(figsize=(5,4))\n",
    "sns.heatmap(cm_df, annot=True)\n",
    "\n",
    "plt.title('Confusion Matrix 6 groups')\n",
    "plt.ylabel('Actual Values')\n",
    "plt.xlabel('Predicted Values')\n",
    "plt.show()\n",
    "\n"
   ]
  },
  {
   "cell_type": "code",
   "execution_count": 280,
   "id": "d037f228",
   "metadata": {},
   "outputs": [
    {
     "name": "stdout",
     "output_type": "stream",
     "text": [
      "300\n",
      "300\n"
     ]
    }
   ],
   "source": [
    "print(len(y_test))\n",
    "print(len(y_pred))"
   ]
  },
  {
   "cell_type": "code",
   "execution_count": 281,
   "id": "6ddcaab0",
   "metadata": {},
   "outputs": [],
   "source": [
    "# Group 4 activity test"
   ]
  },
  {
   "cell_type": "code",
   "execution_count": 282,
   "id": "851f62a2",
   "metadata": {},
   "outputs": [
    {
     "name": "stdout",
     "output_type": "stream",
     "text": [
      "[[ 1.93286906 -0.76595697  1.83605524 ... -0.50995185 -1.25849223\n",
      "  -1.18597368]\n",
      " [ 2.14855678 -0.6410469   1.75632049 ... -0.66114755 -1.25849223\n",
      "  -1.18597368]\n",
      " [ 2.08669801 -0.77433045  1.80338066 ... -0.35147018 -1.25849223\n",
      "  -1.18597368]\n",
      " ...\n",
      " [ 0.82666378 -0.69757802  0.87016231 ... -0.22744235  1.86113518\n",
      "   0.84318903]\n",
      " [ 0.83301714 -0.87950547  0.88571281 ... -0.34399689  1.86113518\n",
      "   0.84318903]\n",
      " [ 0.8974452  -0.85185394  0.96279357 ...  0.08615649  1.86113518\n",
      "   0.84318903]]\n",
      "y_train 0        6\n",
      "1        6\n",
      "2        6\n",
      "3        6\n",
      "4        6\n",
      "        ..\n",
      "1321    34\n",
      "1322    34\n",
      "1323    34\n",
      "1324    34\n",
      "1325    34\n",
      "Name: activity_group_4, Length: 1326, dtype: int64\n",
      "[[ 2.26645706 -1.08987638  2.76804014 ... -0.8417669   1.69726628\n",
      "   1.00668904]\n",
      " [ 2.67206237 -0.75326295  2.86199481 ... -0.8405083   1.69726628\n",
      "   1.00668904]\n",
      " [ 2.34665986 -0.93138908  2.7823927  ... -0.84693395  1.69726628\n",
      "   1.00668904]\n",
      " ...\n",
      " [ 0.1005931  -0.66812045  0.21214054 ... -0.53669081 -0.99627934\n",
      "  -0.99335541]\n",
      " [ 0.13001408 -0.69138998  0.20663891 ... -0.46545156 -0.99627934\n",
      "  -0.99335541]\n",
      " [ 0.14216084 -0.63602471  0.26592612 ... -0.31148918 -0.99627934\n",
      "  -0.99335541]]\n",
      "y_test 0       6\n",
      "1       6\n",
      "2       6\n",
      "3       6\n",
      "4       6\n",
      "       ..\n",
      "295    34\n",
      "296    34\n",
      "297    34\n",
      "298    34\n",
      "299    34\n",
      "Name: activity_group_4, Length: 300, dtype: int64\n"
     ]
    }
   ],
   "source": [
    "Model= X_modelData_scaled\n",
    "test = X_testData_scaled\n",
    "\n",
    "\n",
    "y_4group_model=df_model.activity_group_4\n",
    "y_4group_test=df_test.activity_group_4\n",
    "\n",
    "# assign values \n",
    "\n",
    "X_train=Model\n",
    "y_train=y_4group_model\n",
    "X_test=test\n",
    "y_test=y_4group_test\n",
    "\n",
    "print(X_train)\n",
    "print('y_train',y_train)\n",
    "\n",
    "print(X_test)\n",
    "\n",
    "print('y_test',y_test)"
   ]
  },
  {
   "cell_type": "code",
   "execution_count": 283,
   "id": "34720977",
   "metadata": {},
   "outputs": [],
   "source": [
    "# https://www.analyticsvidhya.com/blog/2021/06/understanding-random-forest/\n",
    "# https://www.datacamp.com/tutorial/random-forests-classifier-python\n",
    "\n",
    "rf = RandomForestClassifier()\n",
    "rf.fit(X_train, y_train)\n",
    "\n",
    "y_pred = rf.predict(X_test)"
   ]
  },
  {
   "cell_type": "code",
   "execution_count": 284,
   "id": "2b6cb27f",
   "metadata": {},
   "outputs": [
    {
     "name": "stdout",
     "output_type": "stream",
     "text": [
      "Accuracy: 0.93\n"
     ]
    },
    {
     "data": {
      "image/png": "[encoded data removed]",
      "text/plain": [
       "<Figure size 500x400 with 2 Axes>"
      ]
     },
     "metadata": {},
     "output_type": "display_data"
    }
   ],
   "source": [
    "# https://www.analyticsvidhya.com/blog/2021/06/confusion-matrix-for-multi-class-classification/\n",
    "    \n",
    "# Creating  a confusion matrix,which compares the y_test and y_pred\n",
    "cm = confusion_matrix(y_test, y_pred)\n",
    "\n",
    "cm_df = pd.DataFrame(cm, index = ['sit & stand','up & down stair','walk','jogg'], columns = ['sit & stand','up & down stair','walk','jogg'])\n",
    "# 1.2 .sit + stand 3.4 upstair downstair 5. walk 6. Jogg\n",
    "cm_df = pd.DataFrame(cm)\n",
    "\n",
    "accuracy = accuracy_score(y_test, y_pred)\n",
    "print(\"Accuracy:\", accuracy)\n",
    "\n",
    "#Plotting the confusion matrix\n",
    "plt.figure(figsize=(5,4))\n",
    "sns.heatmap(cm_df, annot=True)\n",
    "\n",
    "plt.title('Confusion Matrix (4 groups)')\n",
    "plt.ylabel('Actual Values')\n",
    "plt.xlabel('Predicted Values')\n",
    "plt.show()\n",
    "\n"
   ]
  },
  {
   "cell_type": "code",
   "execution_count": 285,
   "id": "3086bf7e",
   "metadata": {},
   "outputs": [
    {
     "name": "stdout",
     "output_type": "stream",
     "text": [
      "[34, 12, 5, 6]\n"
     ]
    }
   ],
   "source": [
    "unique_taskinfo = list(set(y_pred))\n",
    "print(unique_taskinfo)"
   ]
  },
  {
   "cell_type": "code",
   "execution_count": 290,
   "id": "8acc85d9",
   "metadata": {},
   "outputs": [
    {
     "name": "stdout",
     "output_type": "stream",
     "text": [
      "Accuracy: 0.93\n"
     ]
    },
    {
     "data": {
      "image/png": "[encoded data removed]",
      "text/plain": [
       "<Figure size 500x400 with 2 Axes>"
      ]
     },
     "metadata": {},
     "output_type": "display_data"
    }
   ],
   "source": [
    "cm_df = pd.DataFrame(cm, index = ['up & down stair','sit & stand','walk','jogg'], columns = ['up & down stair','sit & stand','walk','jogg'])\n",
    "accuracy = accuracy_score(y_test, y_pred)\n",
    "print(\"Accuracy:\", accuracy)\n",
    "\n",
    "#Plotting the confusion matrix\n",
    "plt.figure(figsize=(5,4))\n",
    "sns.heatmap(cm_df, annot=True)\n",
    "plt.title('Confusion Matrix (4 groups)')\n",
    "plt.ylabel('Actual Values')\n",
    "plt.xlabel('Predicted Values')\n",
    "plt.show()\n"
   ]
  },
  {
   "cell_type": "code",
   "execution_count": 287,
   "id": "37e5bf3a",
   "metadata": {},
   "outputs": [
    {
     "name": "stdout",
     "output_type": "stream",
     "text": [
      "300\n",
      "300\n"
     ]
    }
   ],
   "source": [
    "print(len(y_test))\n",
    "print(len(y_pred))"
   ]
  },
  {
   "cell_type": "code",
   "execution_count": 288,
   "id": "6bce32fb",
   "metadata": {},
   "outputs": [
    {
     "data": {
      "text/plain": [
       "160.0"
      ]
     },
     "execution_count": 288,
     "metadata": {},
     "output_type": "execute_result"
    }
   ],
   "source": [
    "1.6e+02\n"
   ]
  },
  {
   "cell_type": "code",
   "execution_count": 289,
   "id": "1609a958",
   "metadata": {},
   "outputs": [
    {
     "name": "stdout",
     "output_type": "stream",
     "text": [
      "0       6\n",
      "1       6\n",
      "2       6\n",
      "3       6\n",
      "4       6\n",
      "       ..\n",
      "295    34\n",
      "296    34\n",
      "297    34\n",
      "298    34\n",
      "299    34\n",
      "Name: activity_group_4, Length: 300, dtype: int64 [ 6  6  6  6  6  6  6  6  6  6  6  6  6  6  6  6  6  6  6  6  6  6  6  6\n",
      "  6  6  6  6  6  6  6  6  6  6 34 34  5 34 34 34 34  6  6 34 34 34  5  5\n",
      "  5  5  5  5 34  5  5  5 34  5 34 34 34  5  5  5  5  5  5  5  5 34  5 34\n",
      "  5  5  5  5  5  5  5  5 12 12 12 12 12 12 12 12 12 12 12 12 12 12 12 12\n",
      " 12 12 12 12 12 12 12 12 12 12 12 12 12 12 12 12 12 12 12 12 12 12 12 12\n",
      " 12 12 12 12 12 12 12 12 12 12 12 12 12 12 12 12 12 12 12 12 12 12 12 12\n",
      " 12 12 12 12 12 12 12 12 12 12 12 12 12 12 12 12 12 12 12 12 12 12 12 12\n",
      " 12 12 12 12 12 12 12 12 12 12 12 12 12 12 12 12 12 12 12 12 12 12 12 12\n",
      " 12 12 12 12 12 12 12 12 12 12 12 12 12 12 12 12 12 12 12 12 12 12 12 12\n",
      " 12 12 12 12 12 12 12 12 12 12 12 12 12 12 12 12 12 12 12 12 34 34 34 34\n",
      " 34 34 34 34 34 34 34  5 34 34 34 34 34 34 34 34 34 34 34 34 34 34 34 34\n",
      " 34 34 34 34 34 34 34 34 34 34 34 34 34 34 34 34 34 34 34 34 34 34 34 34\n",
      "  5  5 34 34 34 34 34 34 34 34 34 34]\n"
     ]
    }
   ],
   "source": [
    "print(y_test, y_pred)"
   ]
  }
 ],
 "metadata": {
  "kernelspec": {
   "display_name": "Python 3 (ipykernel)",
   "language": "python",
   "name": "python3"
  },
  "language_info": {
   "codemirror_mode": {
    "name": "ipython",
    "version": 3
   },
   "file_extension": ".py",
   "mimetype": "text/x-python",
   "name": "python",
   "nbconvert_exporter": "python",
   "pygments_lexer": "ipython3",
   "version": "3.11.4"
  }
 },
 "nbformat": 4,
 "nbformat_minor": 5
}
